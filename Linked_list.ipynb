{
  "nbformat": 4,
  "nbformat_minor": 0,
  "metadata": {
    "colab": {
      "provenance": [],
      "mount_file_id": "1SZwOep3HhxqvgJSuibgwSjrck84LgLQR",
      "authorship_tag": "ABX9TyP8s+LFsXfuKBs6cH0T+fOS",
      "include_colab_link": true
    },
    "kernelspec": {
      "name": "python3",
      "display_name": "Python 3"
    },
    "language_info": {
      "name": "python"
    }
  },
  "cells": [
    {
      "cell_type": "markdown",
      "metadata": {
        "id": "view-in-github",
        "colab_type": "text"
      },
      "source": [
        "<a href=\"https://colab.research.google.com/github/40116341054071/Linked_list/blob/main/Linked_list.ipynb\" target=\"_parent\"><img src=\"https://colab.research.google.com/assets/colab-badge.svg\" alt=\"Open In Colab\"/></a>"
      ]
    },
    {
      "cell_type": "code",
      "execution_count": null,
      "metadata": {
        "id": "dSGMM6UolX7W"
      },
      "outputs": [],
      "source": [
        "class node:\n",
        "  def __init__(self,d):\n",
        "    self.data = d\n",
        "    self.next = None\n",
        "\n",
        "class linked_list:\n",
        "  def __init__(self):\n",
        "    self.head==None\n",
        "#تابع نمایش\n",
        "  def display(self):\n",
        "    t = node()\n",
        "    t = self.head\n",
        "    while (t!=None):\n",
        "      print(t.data , end=\"-->\")\n",
        "      t = t.next\n",
        "    print(\"None\")\n",
        "\n",
        "#تابع اضافه کردن به اول لیست\n",
        "def addinstart(self , data):\n",
        "  n = node(self,data)\n",
        "  n.next = self.head\n",
        "  self.head = n\n",
        "#تابع اضافه کردن به انتهای لیست\n",
        "\n",
        "\n",
        "def addinend(self , data):\n",
        "  n = node(data)\n",
        "  t = self.head\n",
        "  if t == None:\n",
        "    self.head = n\n",
        "  else:\n",
        "    while (t.next != None):\n",
        "      t = t.next\n",
        "\n",
        "  t.next = n\n",
        "#تابع اضافه کردن به وسط لیست\n",
        "\n",
        "\n",
        "def addafter(self , m , d):\n",
        "  n = node(d)\n",
        "  t = self.head\n",
        "  while(t.data != m):\n",
        "    t = t.next\n",
        "  n.next = t.next\n",
        "  t.next = n\n",
        "#تابع پاک کردن از اول لیست\n",
        "\n",
        "\n",
        "def delfirst(self):\n",
        "  if self.head == None:\n",
        "    return 'empty'\n",
        "  else:\n",
        "    self.head = self.head.next\n",
        "#تابع پاک کردن از اخر لیست\n",
        "\n",
        "\n",
        "def dellast(self):\n",
        "  t=self.head\n",
        "  if t == None:\n",
        "    return 'empty'\n",
        "  elif t.next == None:\n",
        "    t = self.t\n",
        "    while(t.next.next != None):\n",
        "      t = t.next\n",
        "    t.next = None\n",
        "\n",
        "\n",
        "def delafter(self , m, d):\n",
        "  t = self.head\n",
        "  while(t.data != m):\n",
        "    t = t.next\n",
        "  t.next = t.next.next"
      ]
    },
    {
      "cell_type": "code",
      "source": [
        "from google.colab import drive\n",
        "drive.mount('/content/drive')"
      ],
      "metadata": {
        "id": "lYm2-1RtllZE"
      },
      "execution_count": null,
      "outputs": []
    }
  ]
}